{
 "cells": [
  {
   "cell_type": "code",
   "execution_count": 1,
   "metadata": {},
   "outputs": [
    {
     "data": {
      "text/plain": [
       "VGG(\n",
       "  (features): Sequential(\n",
       "    (0): Conv2d(3, 64, kernel_size=(3, 3), stride=(1, 1), padding=(1, 1))\n",
       "    (1): ReLU(inplace=True)\n",
       "    (2): Conv2d(64, 64, kernel_size=(3, 3), stride=(1, 1), padding=(1, 1))\n",
       "    (3): ReLU(inplace=True)\n",
       "    (4): MaxPool2d(kernel_size=2, stride=2, padding=0, dilation=1, ceil_mode=False)\n",
       "    (5): Conv2d(64, 128, kernel_size=(3, 3), stride=(1, 1), padding=(1, 1))\n",
       "    (6): ReLU(inplace=True)\n",
       "    (7): Conv2d(128, 128, kernel_size=(3, 3), stride=(1, 1), padding=(1, 1))\n",
       "    (8): ReLU(inplace=True)\n",
       "    (9): MaxPool2d(kernel_size=2, stride=2, padding=0, dilation=1, ceil_mode=False)\n",
       "    (10): Conv2d(128, 256, kernel_size=(3, 3), stride=(1, 1), padding=(1, 1))\n",
       "    (11): ReLU(inplace=True)\n",
       "    (12): Conv2d(256, 256, kernel_size=(3, 3), stride=(1, 1), padding=(1, 1))\n",
       "    (13): ReLU(inplace=True)\n",
       "    (14): MaxPool2d(kernel_size=2, stride=2, padding=0, dilation=1, ceil_mode=False)\n",
       "    (15): Conv2d(256, 512, kernel_size=(3, 3), stride=(1, 1), padding=(1, 1))\n",
       "    (16): ReLU(inplace=True)\n",
       "    (17): Conv2d(512, 512, kernel_size=(3, 3), stride=(1, 1), padding=(1, 1))\n",
       "    (18): ReLU(inplace=True)\n",
       "    (19): MaxPool2d(kernel_size=2, stride=2, padding=0, dilation=1, ceil_mode=False)\n",
       "    (20): Conv2d(512, 512, kernel_size=(3, 3), stride=(1, 1), padding=(1, 1))\n",
       "    (21): ReLU(inplace=True)\n",
       "    (22): Conv2d(512, 512, kernel_size=(3, 3), stride=(1, 1), padding=(1, 1))\n",
       "    (23): ReLU(inplace=True)\n",
       "    (24): MaxPool2d(kernel_size=2, stride=2, padding=0, dilation=1, ceil_mode=False)\n",
       "    (25): AvgPool2d(kernel_size=1, stride=1, padding=0)\n",
       "  )\n",
       "  (avgpool): AdaptiveAvgPool2d(output_size=(1, 1))\n",
       "  (classifier): Linear(in_features=512, out_features=10, bias=True)\n",
       ")"
      ]
     },
     "execution_count": 1,
     "metadata": {},
     "output_type": "execute_result"
    }
   ],
   "source": [
    "import os\n",
    "import numpy as np\n",
    "from tqdm import tqdm\n",
    "\n",
    "import torch\n",
    "from torchvision import transforms as T\n",
    "from torchvision.datasets import CIFAR10\n",
    "from models.resnet_cifar import *\n",
    "from models.vgg_cifar import *\n",
    "\n",
    "from utils import add_hooks, remove_hooks, get_ZCA_matrix, ConeTransform\n",
    "from mmd_function import MMD\n",
    "\n",
    "# TODO: \n",
    "# - use batch MMD (or somehow I need to do the channel version without memory issues)\n",
    "# - instead of GAP, get 4 dimensional vectors (where C = 4) like this Nx4xHxW  ---> (N*H*W)x4\n",
    "\n",
    "# Variables\n",
    "mode = \"iid\" # non_iid, iid\n",
    "extract_mode = \"gap\" # flatten, channel, gap\n",
    "network_name = \"vgg11\" # resnet20, vgg11, vgg11conv0, resnet20conv0\n",
    "num_classes = 10\n",
    "resolution = 32\n",
    "MMD_path = './MMD_values'\n",
    "\n",
    "ZCA_preprocessing = True\n",
    "ZCA_conv0 = False\n",
    "lmscone = False\n",
    "\n",
    "if ZCA_conv0:\n",
    "    assert 'conv0' in network_name, 'ZCA_conv0 is True but network_name does not contain conv0'\n",
    "    zca_conv0_path = './../ZCA_init_cifar10/outputs/conv0_ZCAinit_cifar10res32_addgray/'\n",
    "    if lmscone:\n",
    "        zca_conv0_path = './../ZCA_init_cifar10/outputs/conv0_ZCAinit_cifar10res32_addgray_lmscone/'\n",
    "\n",
    "device = torch.device(\"cuda:0\" if torch.cuda.is_available() else \"cpu\")\n",
    "\n",
    "MMD_path = os.path.join(MMD_path, f'{network_name}_cifar10res{resolution}')\n",
    "if not os.path.exists(MMD_path):\n",
    "    os.makedirs(MMD_path)\n",
    "\n",
    "# Seed everything\n",
    "seed = 0\n",
    "np.random.seed(seed)\n",
    "torch.manual_seed(seed)\n",
    "torch.cuda.manual_seed(seed)\n",
    "torch.cuda.manual_seed_all(seed)\n",
    "\n",
    "# Load transform for CIFAR10\n",
    "if lmscone: # use values calculated for these transformation (cifar10 values)\n",
    "    mean = [0.61700356, 0.6104542, 0.5773882]\n",
    "    std = [0.23713203, 0.2416522, 0.25481918]\n",
    "else: # RGB cifar10 values\n",
    "    mean = [0.4914, 0.4822, 0.4465]\n",
    "    std = [0.247, 0.243, 0.261]\n",
    "\n",
    "if ZCA_conv0:\n",
    "    std = [1.0, 1.0, 1.0]\n",
    "\n",
    "if lmscone:\n",
    "    transform = T.Compose([\n",
    "        T.Resize(resolution),\n",
    "        T.ToTensor(),\n",
    "        ConeTransform(),\n",
    "        T.Normalize(mean=mean,\n",
    "                    std=std),\n",
    "    ])\n",
    "else:\n",
    "    transform = T.Compose([\n",
    "        T.Resize(resolution),\n",
    "        T.ToTensor(),\n",
    "        T.Normalize(mean=mean,\n",
    "                    std=std),\n",
    "    ])\n",
    "# Load CIFAR10 dataset test set\n",
    "dataset = CIFAR10(root='/data/datasets/CIFAR10', train=False, download=False, transform=transform)\n",
    "\n",
    "if ZCA_preprocessing:\n",
    "    # Calculate zca matrix using train set\n",
    "    traindataset = CIFAR10(root='/data/datasets/CIFAR10', train=True, download=False, transform=transform)\n",
    "    ZCA_obj = get_ZCA_matrix(traindataset, num_imgs=len(traindataset))\n",
    "\n",
    "# Load indices\n",
    "indices_path = './indices'\n",
    "if mode == \"iid\":\n",
    "    indices_A = np.load(f'{indices_path}/IID_indices_A_test.npy')\n",
    "    indices_B = np.load(f'{indices_path}/IID_indices_B_test.npy')\n",
    "elif mode == \"non_iid\":\n",
    "    indices_A = np.load(f'{indices_path}/Non_IID_indices_A_test.npy')\n",
    "    indices_B = np.load(f'{indices_path}/Non_IID_indices_B_test.npy')\n",
    "\n",
    "# Get datasets A and B with subset and create loaders\n",
    "data_A = torch.utils.data.Subset(dataset, indices_A)\n",
    "data_B = torch.utils.data.Subset(dataset, indices_B)\n",
    "loader_A = torch.utils.data.DataLoader(data_A, batch_size=256, shuffle=False)\n",
    "loader_B = torch.utils.data.DataLoader(data_B, batch_size=256, shuffle=False)\n",
    "\n",
    "# Load network and put it in eval mode\n",
    "model = eval(network_name)(num_classes=num_classes)\n",
    "if ZCA_conv0:\n",
    "    zca_conv0_weight = torch.load(os.path.join(zca_conv0_path,'F_ZCA_weights.pth'))\n",
    "    zca_conv0_bias = torch.load(os.path.join(zca_conv0_path,'F_ZCA_bias.pth'))\n",
    "    model.conv0.weight = torch.nn.Parameter(zca_conv0_weight)\n",
    "    model.conv0.bias = torch.nn.Parameter(zca_conv0_bias)\n",
    "model.to(device)\n",
    "model.eval()"
   ]
  },
  {
   "cell_type": "code",
   "execution_count": 5,
   "metadata": {},
   "outputs": [],
   "source": [
    "X, _ = next(iter(loader_A))\n",
    "whitened_X = ZCA_obj.transform_data(X)"
   ]
  },
  {
   "cell_type": "code",
   "execution_count": 6,
   "metadata": {},
   "outputs": [],
   "source": [
    "import matplotlib.pyplot as plt\n",
    "def plotImage(img):\n",
    "    plt.figure(figsize=(3,3))\n",
    "    img = img.detach().cpu()\n",
    "    img = (img - img.min()) / (img.max() - img.min())\n",
    "    if len(img.shape) == 2:\n",
    "        plt.imshow(img, cmap='gray')\n",
    "    elif len(img.shape) == 3:\n",
    "        plt.imshow(img.permute(1,2,0))"
   ]
  },
  {
   "cell_type": "code",
   "execution_count": 7,
   "metadata": {},
   "outputs": [
    {
     "data": {
      "image/png": "[encoded data removed]",
      "text/plain": [
       "<Figure size 300x300 with 1 Axes>"
      ]
     },
     "metadata": {},
     "output_type": "display_data"
    },
    {
     "data": {
      "image/png": "[encoded data removed]",
      "text/plain": [
       "<Figure size 300x300 with 1 Axes>"
      ]
     },
     "metadata": {},
     "output_type": "display_data"
    }
   ],
   "source": [
    "plotImage(X[2])\n",
    "plotImage(whitened_X[2])"
   ]
  }
 ],
 "metadata": {
  "kernelspec": {
   "display_name": "py38gpu",
   "language": "python",
   "name": "python3"
  },
  "language_info": {
   "codemirror_mode": {
    "name": "ipython",
    "version": 3
   },
   "file_extension": ".py",
   "mimetype": "text/x-python",
   "name": "python",
   "nbconvert_exporter": "python",
   "pygments_lexer": "ipython3",
   "version": "3.8.18"
  }
 },
 "nbformat": 4,
 "nbformat_minor": 2
}
